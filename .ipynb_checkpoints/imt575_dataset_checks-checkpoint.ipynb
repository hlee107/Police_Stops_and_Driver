{
 "cells": [
  {
   "cell_type": "code",
   "execution_count": null,
   "id": "b0c2a985",
   "metadata": {},
   "outputs": [],
   "source": [
    "import pandas as pd"
   ]
  },
  {
   "cell_type": "code",
   "execution_count": null,
   "id": "8a4d2450",
   "metadata": {},
   "outputs": [],
   "source": [
    "wa = pd.read_csv('yg821jf8611_wa_statewide_2020_04_01.csv.zip')"
   ]
  },
  {
   "cell_type": "code",
   "execution_count": null,
   "id": "05a98f3e",
   "metadata": {},
   "outputs": [],
   "source": [
    "wa.head()"
   ]
  },
  {
   "cell_type": "code",
   "execution_count": null,
   "id": "0962c986",
   "metadata": {},
   "outputs": [],
   "source": [
    "wa.columns"
   ]
  },
  {
   "cell_type": "code",
   "execution_count": null,
   "id": "a4be26c7",
   "metadata": {},
   "outputs": [],
   "source": [
    "# Specify columns to check for NULL values\n",
    "columns_to_check = ['date', 'county_name', 'subject_race', 'subject_sex', 'officer_race', 'officer_sex', 'citation_issued', 'warning_issued']\n",
    "\n",
    "# Filter out rows where any of the specified columns is not NULL\n",
    "filtered_df = wa.dropna(subset=columns_to_check)\n",
    "\n",
    "# Display the filtered DataFrame\n",
    "print(filtered_df)"
   ]
  },
  {
   "cell_type": "code",
   "execution_count": null,
   "id": "948c81d3",
   "metadata": {},
   "outputs": [],
   "source": [
    "filtered_df.info()"
   ]
  },
  {
   "cell_type": "code",
   "execution_count": null,
   "id": "f6528dd3",
   "metadata": {},
   "outputs": [],
   "source": [
    "wa.officer_race.isna().sum()"
   ]
  },
  {
   "cell_type": "code",
   "execution_count": null,
   "id": "8d20b8ab",
   "metadata": {},
   "outputs": [],
   "source": [
    "wa.shape"
   ]
  },
  {
   "cell_type": "code",
   "execution_count": null,
   "id": "bedd33bc",
   "metadata": {},
   "outputs": [],
   "source": [
    "wa.raw_officer_race.value_counts()"
   ]
  },
  {
   "cell_type": "code",
   "execution_count": null,
   "id": "ab5a7907",
   "metadata": {},
   "outputs": [],
   "source": [
    "wa.citation_issued.value_counts()"
   ]
  },
  {
   "cell_type": "code",
   "execution_count": null,
   "id": "f21abe92",
   "metadata": {},
   "outputs": [],
   "source": [
    "wa_state_patrol.date.value_counts()"
   ]
  },
  {
   "cell_type": "code",
   "execution_count": null,
   "id": "01da4c3d",
   "metadata": {},
   "outputs": [],
   "source": [
    "wa.columns"
   ]
  }
 ],
 "metadata": {
  "kernelspec": {
   "display_name": "Python [conda env:root] *",
   "language": "python",
   "name": "conda-root-py"
  },
  "language_info": {
   "codemirror_mode": {
    "name": "ipython",
    "version": 3
   },
   "file_extension": ".py",
   "mimetype": "text/x-python",
   "name": "python",
   "nbconvert_exporter": "python",
   "pygments_lexer": "ipython3",
   "version": "3.9.12"
  }
 },
 "nbformat": 4,
 "nbformat_minor": 5
}
